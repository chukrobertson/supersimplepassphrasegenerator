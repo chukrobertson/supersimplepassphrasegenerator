{
 "cells": [
  {
   "cell_type": "code",
   "execution_count": 1,
   "metadata": {},
   "outputs": [],
   "source": [
    "import random\n",
    "from string import digits\n",
    "from string import punctuation\n",
    "from string import ascii_letters\n",
    "\n",
    "symbols = ascii_letters + digits + punctuation\n",
    "secure_random = random.SystemRandom()\n",
    "filename = r'words.txt'\n",
    "lines = open(filename).read().split('\\n')\n",
    "\n",
    "def passWordGen():\n",
    "    passlen = int(input(\"How many characters required? \\n\"))\n",
    "    if passlen <=100:\n",
    "        password = \" \".join(secure_random.choice(symbols) for i in range(passlen))\n",
    "        print(\"Your password is:\",\"\\n\",password)\n",
    "    else:\n",
    "        print(\"Choose a password length of 100 characters or less.\")\n",
    "        passWordGen()\n",
    "\n",
    "def passPhraseGen():\n",
    "    phralen = int(input(\"How many words in phrase? \\n\"))\n",
    "    if phralen <=100:\n",
    "        phrase = \" \".join(secure_random.choice(lines) for i in range(phralen))\n",
    "        print(\"Your passphrase is:\",\"\\n\",phrase)\n",
    "    else:\n",
    "        print(\"Choose a passphrase with 100 words or less.\")\n",
    "        passPhraseGen()\n",
    "\n",
    "def randPhraseGen():\n",
    "    tmp = []\n",
    "    print(\"Generating a list of 1000 random 4 character passwordlets.\\n\")\n",
    "    for _ in range(1000):\n",
    "        password = \" \".join(secure_random.choice(symbols) for i in range(4))\n",
    "        tmp.append(password+\"  \")\n",
    "    print(\"Done!\\n\")\n",
    "    phralen2 = int(input(\"How many words in phrase?\\n\"))\n",
    "    if phralen2 <= 100:\n",
    "        phrase = \" \".join(secure_random.choice(tmp) for i in range(phralen2))\n",
    "        print(\"Your VERY secure passphrase is:\",\"\\n\",phrase)\n",
    "    else:\n",
    "        print(\"Choose a passphrase with 100 words or less.\")\n",
    "        randPhraseGen()\n",
    "\n",
    "def entry():\n",
    "    try:\n",
    "        cmd = int(input(\"\"\"\n",
    "                        ################################################\n",
    "                        Simple Password/Passphrase Generator(passgen.py)\n",
    "                        ------------------------------------------------\n",
    "                        Generate a random secure password or passphrase.\n",
    "                        This does NOT save what you generate. Enjoy :)\n",
    "                        ################################################\n",
    "                        Select:\n",
    "                        1. To generate a secure password of (x) length.\n",
    "                        2. To generate a secure passphrase of (x) length.\n",
    "                        3. To generate a VERY secure passphrase of (x) length from random passwords of 4 chars.\n",
    "                        4. Exit\n",
    "\n",
    "                        \"\"\"))\n",
    "\n",
    "        if cmd == int(1):\n",
    "            passWordGen()\n",
    "        elif cmd == int(2):\n",
    "            passPhraseGen()\n",
    "        elif cmd == int(3):\n",
    "            randPhraseGen()\n",
    "        elif cmd == int(4):\n",
    "            print(\"Goodbye!\")\n",
    "        else:\n",
    "            print(\"Please press 1 or 2 or 3 or 4\")\n",
    "            entry()\n",
    "    except:\n",
    "        print(\"Please press 1 or 2 or 3 or 4\")\n",
    "        entry()"
   ]
  },
  {
   "cell_type": "code",
   "execution_count": 4,
   "metadata": {},
   "outputs": [
    {
     "name": "stdout",
     "output_type": "stream",
     "text": [
      "\n",
      "                        ################################################\n",
      "                        Simple Password/Passphrase Generator(passgen.py)\n",
      "                        ------------------------------------------------\n",
      "                        Generate a random secure password or passphrase.\n",
      "                        This does NOT save what you generate. Enjoy :)\n",
      "                        ################################################\n",
      "                        Select:\n",
      "                        1. To generate a secure password of (x) length.\n",
      "                        2. To generate a secure passphrase of (x) length.\n",
      "                        3. To generate a VERY secure passphrase of (x) length from random passwords of 4 chars.\n",
      "                        4. Exit\n",
      "\n",
      "                        3\n",
      "Generating a list of 1000 random 4 character passwordlets.\n",
      "\n",
      "Done!\n",
      "\n",
      "How many words in phrase?\n",
      "6\n",
      "Your VERY secure passphrase is: \n",
      " W \" Y B   . o 7 A   ^ F : .   J G x q   & T , 3   r q # `  \n"
     ]
    }
   ],
   "source": [
    "entry()\n",
    "\n"
   ]
  },
  {
   "cell_type": "code",
   "execution_count": 12,
   "metadata": {},
   "outputs": [
    {
     "name": "stdout",
     "output_type": "stream",
     "text": [
      "how many chars? 12\n",
      "%c\\MA0$Tz5xR\n"
     ]
    }
   ],
   "source": [
    "import random\n",
    "from string import digits\n",
    "from string import punctuation\n",
    "from string import ascii_letters\n",
    "secure_random = random.SystemRandom()\n",
    "symbols = ascii_letters + digits + punctuation\n",
    "pool = digits + punctuation + ascii_letters\n",
    "tmp = []\n",
    "length = int(input(\"how many chars? \"))\n",
    "for i in range(length):\n",
    "    Char = secure_random.choice(pool)\n",
    "    tmp.append(Char)\n",
    "pword = \"\"\n",
    "pword = pword.join(tmp)\n",
    "print(pword)"
   ]
  }
 ],
 "metadata": {
  "kernelspec": {
   "display_name": "Python 3",
   "language": "python",
   "name": "python3"
  },
  "language_info": {
   "codemirror_mode": {
    "name": "ipython",
    "version": 3
   },
   "file_extension": ".py",
   "mimetype": "text/x-python",
   "name": "python",
   "nbconvert_exporter": "python",
   "pygments_lexer": "ipython3",
   "version": "3.9.1"
  }
 },
 "nbformat": 4,
 "nbformat_minor": 4
}
